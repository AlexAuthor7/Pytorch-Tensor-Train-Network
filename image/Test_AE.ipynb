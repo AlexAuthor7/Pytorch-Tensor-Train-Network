{
 "cells": [
  {
   "cell_type": "code",
   "execution_count": 29,
   "metadata": {},
   "outputs": [],
   "source": [
    "#!/usr/bin/env python3\n",
    "\n",
    "import os\n",
    "import sys\n",
    "import numpy as np \n",
    "import argparse \n",
    "import time \n",
    "\n",
    "import torch \n",
    "import torch.nn as nn \n",
    "import torch.optim as optim \n",
    "import torch.nn.functional as F \n",
    "from tc.tc_fc import TTLinear \n",
    "\n",
    "from torchvision import datasets, transforms\n",
    "\n",
    "seed = 7\n",
    "np.random.seed(seed)\n",
    "dtype = torch.cuda.FloatTensor if torch.cuda.is_available() else torch.FloatTensor\n",
    "device = torch.device(\"cuda\" if torch.cuda.is_available() else \"cpu\")\n",
    "\n",
    "batch_size =200\n",
    "input_tensor = [7, 4, 7, 4]\n",
    "hidden_tensors= [[8, 4, 8, 4], [8, 4, 8, 4], [4, 2, 4, 4]]\n",
    "n_epochs = 5\n",
    "\n",
    "\n",
    "class tt_autoencoder(nn.Module):\n",
    "    def __init__(self, hidden_tensors, input_tensor, output_dim, tt_rank):\n",
    "        super(tt_autoencoder, self).__init__()\n",
    "        self.encoder1 = nn.Sequential(TTLinear(input_tensor, hidden_tensors[0], tt_rank=tt_rank),\n",
    "                                      TTLinear(hidden_tensors[0], hidden_tensors[1], tt_rank=tt_rank),\n",
    "                                      TTLinear(hidden_tensors[1], hidden_tensors[2], tt_rank=tt_rank))\n",
    "        self.decoder1 = nn.Sequential(TTLinear(hidden_tensors[2],hidden_tensors[1], tt_rank=tt_rank),\n",
    "                                      TTLinear(hidden_tensors[1],hidden_tensors[0], tt_rank=tt_rank),\n",
    "                                      TTLinear(hidden_tensors[0],input_tensor, tt_rank=tt_rank))\n",
    "\n",
    "    def forward(self, inputs):\n",
    "        ### Encoder layer\n",
    "        out = self.encoder1(inputs)\n",
    "        ### Decoder Layer with activation\n",
    "        out = F.sigmoid(self.decoder1(out))\n",
    "        return out"
   ]
  },
  {
   "cell_type": "code",
   "execution_count": 30,
   "metadata": {},
   "outputs": [
    {
     "name": "stdout",
     "output_type": "stream",
     "text": [
      "Building a Tensor-Train model...\n",
      "Model's state_dict:\n",
      "encoder1.0.b \t torch.Size([1])\n",
      "encoder1.0.W_cores.0 \t torch.Size([1, 7, 8, 2])\n",
      "encoder1.0.W_cores.1 \t torch.Size([2, 4, 4, 2])\n",
      "encoder1.0.W_cores.2 \t torch.Size([2, 7, 8, 2])\n",
      "encoder1.0.W_cores.3 \t torch.Size([2, 4, 4, 1])\n",
      "encoder1.1.b \t torch.Size([1])\n",
      "encoder1.1.W_cores.0 \t torch.Size([1, 8, 8, 2])\n",
      "encoder1.1.W_cores.1 \t torch.Size([2, 4, 4, 2])\n",
      "encoder1.1.W_cores.2 \t torch.Size([2, 8, 8, 2])\n",
      "encoder1.1.W_cores.3 \t torch.Size([2, 4, 4, 1])\n",
      "encoder1.2.b \t torch.Size([1])\n",
      "encoder1.2.W_cores.0 \t torch.Size([1, 8, 4, 2])\n",
      "encoder1.2.W_cores.1 \t torch.Size([2, 4, 2, 2])\n",
      "encoder1.2.W_cores.2 \t torch.Size([2, 8, 4, 2])\n",
      "encoder1.2.W_cores.3 \t torch.Size([2, 4, 4, 1])\n",
      "decoder1.0.b \t torch.Size([1])\n",
      "decoder1.0.W_cores.0 \t torch.Size([1, 4, 8, 2])\n",
      "decoder1.0.W_cores.1 \t torch.Size([2, 2, 4, 2])\n",
      "decoder1.0.W_cores.2 \t torch.Size([2, 4, 8, 2])\n",
      "decoder1.0.W_cores.3 \t torch.Size([2, 4, 4, 1])\n",
      "decoder1.1.b \t torch.Size([1])\n",
      "decoder1.1.W_cores.0 \t torch.Size([1, 8, 8, 2])\n",
      "decoder1.1.W_cores.1 \t torch.Size([2, 4, 4, 2])\n",
      "decoder1.1.W_cores.2 \t torch.Size([2, 8, 8, 2])\n",
      "decoder1.1.W_cores.3 \t torch.Size([2, 4, 4, 1])\n",
      "decoder1.2.b \t torch.Size([1])\n",
      "decoder1.2.W_cores.0 \t torch.Size([1, 8, 7, 2])\n",
      "decoder1.2.W_cores.1 \t torch.Size([2, 4, 4, 2])\n",
      "decoder1.2.W_cores.2 \t torch.Size([2, 8, 7, 2])\n",
      "decoder1.2.W_cores.3 \t torch.Size([2, 4, 4, 1])\n"
     ]
    }
   ],
   "source": [
    "if __name__=='__main__':\n",
    "\n",
    "\n",
    "    ### get data\n",
    "    # convert data to torch.FloatTensor\n",
    "    transform = transforms.ToTensor()\n",
    "\n",
    "    # load the training and test datasets\n",
    "    train_data = datasets.MNIST(root='data', train=True,\n",
    "                                       download=True, transform=transform)\n",
    "    test_data = datasets.MNIST(root='data', train=False,\n",
    "                                      download=True, transform=transform)\n",
    "    # Create training and test dataloaders\n",
    "\n",
    "    # number of subprocesses to use for data loading\n",
    "    num_workers = 0\n",
    "    # how many samples per batch to load\n",
    "    batch_size = 20\n",
    "\n",
    "    # prepare data loaders\n",
    "    train_loader = torch.utils.data.DataLoader(train_data, batch_size=batch_size, num_workers=num_workers)\n",
    "    test_loader = torch.utils.data.DataLoader(test_data, batch_size=batch_size, num_workers=num_workers)\n",
    "    tt_rank = [1, 2, 2, 2, 1]\n",
    "    print('Building a Tensor-Train model...')\n",
    "    model = tt_autoencoder(hidden_tensors, input_tensor, 10, tt_rank).to(device)\n",
    "    \n",
    "    print(\"Model's state_dict:\")\n",
    "    for param_tensor in model.state_dict():\n",
    "        print(param_tensor, \"\\t\", model.state_dict()[param_tensor].size())\n",
    "\n",
    "    lr = 0.001\n",
    "    # specify loss function\n",
    "    criterion = nn.BCELoss()\n",
    "\n",
    "    # specify loss function\n",
    "    optimizer = torch.optim.Adam(model.parameters(), lr=0.001)\n",
    "\n",
    "\n",
    "    # number of epochs to train the model\n",
    "    n_epochs = 5"
   ]
  },
  {
   "cell_type": "code",
   "execution_count": null,
   "metadata": {},
   "outputs": [
    {
     "name": "stdout",
     "output_type": "stream",
     "text": [
      "Epoch: 1 \tTraining Loss: 14.060495\n"
     ]
    }
   ],
   "source": [
    "for epoch in range(1, n_epochs+1):\n",
    "    # monitor training loss\n",
    "    train_loss = 0.0\n",
    "\n",
    "    ###################\n",
    "    # train the model #\n",
    "    ###################\n",
    "    for data in train_loader:\n",
    "        # _ stands in for labels, here\n",
    "        images, _ = data\n",
    "        # flatten images\n",
    "        images = images.view(images.size(0), -1)\n",
    "        images = images.to(device)\n",
    "        # clear the gradients of all optimized variables\n",
    "        optimizer.zero_grad()\n",
    "        # forward pass: compute predicted outputs by passing inputs to the model\n",
    "        outputs = model(images)\n",
    "        # calculate the loss\n",
    "        loss = criterion(outputs, images)\n",
    "        # backward pass: compute gradient of the loss with respect to model parameters\n",
    "        loss.backward()\n",
    "        # perform a single optimization step (parameter update)\n",
    "        optimizer.step()\n",
    "        # update running training loss\n",
    "        train_loss += loss.item()*images.size(0)\n",
    "\n",
    "    # print avg training statistics \n",
    "    train_loss = train_loss/len(train_loader)\n",
    "    print('Epoch: {} \\tTraining Loss: {:.6f}'.format(\n",
    "        epoch, \n",
    "        train_loss\n",
    "        ))\n",
    "\n",
    "\n",
    "torch.save(model.state_dict(),\"ae_tt.pt\")"
   ]
  },
  {
   "cell_type": "code",
   "execution_count": 18,
   "metadata": {},
   "outputs": [
    {
     "data": {
      "image/png": "[encoded data removed]",
      "text/plain": [
       "<Figure size 1800x288 with 20 Axes>"
      ]
     },
     "metadata": {
      "needs_background": "light"
     },
     "output_type": "display_data"
    }
   ],
   "source": [
    "import matplotlib.pyplot as plt\n",
    "%matplotlib inline\n",
    "\n",
    "# obtain one batch of test images\n",
    "dataiter = iter(test_loader)\n",
    "images, labels = dataiter.next()\n",
    "\n",
    "images_flatten = images.view(images.size(0), -1)\n",
    "# get sample outputs\n",
    "output = model(images_flatten.to(device))\n",
    "# prep images for display\n",
    "images = images.numpy()\n",
    "\n",
    "# output is resized into a batch of images\n",
    "output = output.view(batch_size, 1, 28, 28)\n",
    "# use detach when it's an output that requires_grad\n",
    "output = output.cpu().detach().numpy()\n",
    "\n",
    "# plot the first ten input images and then reconstructed images\n",
    "fig, axes = plt.subplots(nrows=2, ncols=10, sharex=True, sharey=True, figsize=(25,4))\n",
    "\n",
    "# input images on top row, reconstructions on bottom\n",
    "for images, row in zip([images, output], axes):\n",
    "    for img, ax in zip(images, row):\n",
    "        ax.imshow(np.squeeze(img), cmap='gray')\n",
    "        ax.get_xaxis().set_visible(False)\n",
    "        ax.get_yaxis().set_visible(False)\n",
    "\n"
   ]
  },
  {
   "cell_type": "code",
   "execution_count": 28,
   "metadata": {},
   "outputs": [
    {
     "data": {
      "image/png": "[encoded data removed]",
      "text/plain": [
       "<Figure size 1800x288 with 20 Axes>"
      ]
     },
     "metadata": {
      "needs_background": "light"
     },
     "output_type": "display_data"
    }
   ],
   "source": [
    "\n",
    "def show_rec():\n",
    "    # obtain one batch of test images\n",
    "    dataiter = iter(test_loader)\n",
    "    images, labels = dataiter.next()\n",
    "\n",
    "    images_flatten = images.view(images.size(0), -1)\n",
    "    # get sample outputs\n",
    "    output = model(images_flatten.to(device))\n",
    "    # prep images for display\n",
    "    images = images.numpy()\n",
    "\n",
    "    # output is resized into a batch of images\n",
    "    output = output.view(batch_size, 1, 28, 28)\n",
    "    # use detach when it's an output that requires_grad\n",
    "    output = output.cpu().detach().numpy()\n",
    "\n",
    "    # plot the first ten input images and then reconstructed images\n",
    "    fig, axes = plt.subplots(nrows=2, ncols=10, sharex=True, sharey=True, figsize=(25,4))\n",
    "\n",
    "    # input images on top row, reconstructions on bottom\n",
    "    for images, row in zip([images, output], axes):\n",
    "        for img, ax in zip(images, row):\n",
    "            ax.imshow(np.squeeze(img), cmap='gray')\n",
    "            ax.get_xaxis().set_visible(False)\n",
    "            ax.get_yaxis().set_visible(False)\n",
    "\n",
    "show_rec()"
   ]
  },
  {
   "cell_type": "code",
   "execution_count": null,
   "metadata": {},
   "outputs": [],
   "source": []
  }
 ],
 "metadata": {
  "kernelspec": {
   "display_name": "Python [conda env:speech1] *",
   "language": "python",
   "name": "conda-env-speech1-py"
  },
  "language_info": {
   "codemirror_mode": {
    "name": "ipython",
    "version": 3
   },
   "file_extension": ".py",
   "mimetype": "text/x-python",
   "name": "python",
   "nbconvert_exporter": "python",
   "pygments_lexer": "ipython3",
   "version": "3.7.3"
  }
 },
 "nbformat": 4,
 "nbformat_minor": 2
}
